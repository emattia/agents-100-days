{
 "cells": [
  {
   "cell_type": "markdown",
   "metadata": {},
   "source": [
    "## Google Agent Development Kit\n",
    "\n",
    "Today I'll be studying Google's latest announcement related to agents.\n",
    "Here is the [announcement post](https://developers.googleblog.com/en/agent-development-kit-easy-to-build-multi-agent-applications/).\n",
    "Here are the [docs](https://google.github.io/adk-docs/).\n",
    "\n",
    "My goals are to:\n",
    "1. Understand the core mental model of this Google project in regards to agents\n",
    "2. Run the basic examples in a notebook\n",
    "3. Read the API docs\n",
    "4. Generate new research questions"
   ]
  },
  {
   "cell_type": "markdown",
   "metadata": {},
   "source": [
    "## API Keys"
   ]
  },
  {
   "cell_type": "code",
   "execution_count": 1,
   "metadata": {},
   "outputs": [
    {
     "data": {
      "text/plain": [
       "True"
      ]
     },
     "execution_count": 1,
     "metadata": {},
     "output_type": "execute_result"
    }
   ],
   "source": [
    "from dotenv import load_dotenv\n",
    "load_dotenv()"
   ]
  },
  {
   "cell_type": "markdown",
   "metadata": {},
   "source": [
    "## Getting started\n",
    "\n",
    "Copy-pasted example from Google ADK docs, validating set up."
   ]
  },
  {
   "cell_type": "code",
   "execution_count": 2,
   "metadata": {},
   "outputs": [],
   "source": [
    "from google.adk.agents import Agent\n",
    "from google.adk.runners import Runner\n",
    "from google.adk.sessions import InMemorySessionService\n",
    "from google.adk.tools import google_search\n",
    "from google.adk.models.lite_llm import LiteLlm\n",
    "\n",
    "from IPython.display import display, Markdown\n",
    "\n",
    "import sys\n",
    "sys.path.append(\"..\")\n",
    "from common_utils import display_signature\n"
   ]
  },
  {
   "cell_type": "markdown",
   "metadata": {},
   "source": [
    "Similar to OpenAI's Agents SDK, the core objects is `Agent`."
   ]
  },
  {
   "cell_type": "code",
   "execution_count": 3,
   "metadata": {},
   "outputs": [],
   "source": [
    "APP_NAME = \"question_answer_agent\"\n",
    "USER_ID = \"user_123\"\n",
    "SESSION_ID = \"session_123\""
   ]
  },
  {
   "cell_type": "code",
   "execution_count": 4,
   "metadata": {},
   "outputs": [],
   "source": [
    "agent = Agent(\n",
    "    model=\"gemini-2.0-flash-exp\",\n",
    "    name=\"question_answer_agent\",\n",
    "    description=\"\"\"an agent whose job it is to perform Google search queries and answer questions about the results.\"\"\",\n",
    "    instruction=\"\"\"You are an agent whose job is to perform Google search queries and answer questions about the results.\"\"\",\n",
    "    tools=[google_search],\n",
    ")"
   ]
  },
  {
   "cell_type": "code",
   "execution_count": 5,
   "metadata": {},
   "outputs": [],
   "source": [
    "session_service = InMemorySessionService()"
   ]
  },
  {
   "cell_type": "code",
   "execution_count": 6,
   "metadata": {},
   "outputs": [
    {
     "name": "stdout",
     "output_type": "stream",
     "text": [
      "Attempting to create session with ID: session_123\n",
      "Session session_123 created (or attempted to create).\n"
     ]
    }
   ],
   "source": [
    "# session = session_service.create_session(\n",
    "#     app_name=APP_NAME,\n",
    "#     user_id=USER_ID,\n",
    "#     session_id=SESSION_ID\n",
    "# )\n",
    "\n",
    "print(f\"Attempting to create session with ID: {SESSION_ID}\")\n",
    "await session_service.create_session(\n",
    "    app_name=APP_NAME,\n",
    "    user_id=USER_ID,\n",
    "    session_id=SESSION_ID\n",
    ")\n",
    "print(f\"Session {SESSION_ID} created (or attempted to create).\")"
   ]
  },
  {
   "cell_type": "code",
   "execution_count": 7,
   "metadata": {},
   "outputs": [],
   "source": [
    "runner = Runner(\n",
    "    agent=agent, # The agent we want to run\n",
    "    app_name=APP_NAME,   # Associates runs with our app\n",
    "    session_service=session_service # Uses our session manager\n",
    ")"
   ]
  },
  {
   "cell_type": "code",
   "execution_count": 8,
   "metadata": {},
   "outputs": [],
   "source": [
    "from google.genai import types # For creating message Content/Parts\n",
    "\n",
    "async def call_agent_async(query: str, runner, user_id, session_id):\n",
    "    \"\"\"Sends a query to the agent and prints the final response.\"\"\"\n",
    "    print(f\"\\n>>> User Query: {query}\")\n",
    "\n",
    "    # Prepare the user's message in ADK format\n",
    "    content = types.Content(role='user', parts=[types.Part(text=query)])\n",
    "\n",
    "    final_response_text = \"Agent did not produce a final response.\" # Default\n",
    "\n",
    "    # Key Concept: run_async executes the agent logic and yields Events.\n",
    "    # We iterate through events to find the final answer.\n",
    "    async for event in runner.run_async(user_id=user_id, session_id=session_id, new_message=content):\n",
    "        # You can uncomment the line below to see *all* events during execution\n",
    "        print(f\"  [Event] Author: {event.author}, Type: {type(event).__name__}, Final: {event.is_final_response()}, Content: {event.content}\")\n",
    "\n",
    "        # Key Concept: is_final_response() marks the concluding message for the turn.\n",
    "        if event.is_final_response():\n",
    "            if event.content and event.content.parts:\n",
    "                # Assuming text response in the first part\n",
    "                final_response_text = event.content.parts[0].text\n",
    "            elif event.actions and event.actions.escalate: # Handle potential errors/escalations\n",
    "                final_response_text = f\"Agent escalated: {event.error_message or 'No specific message.'}\"\n",
    "            # Add more checks here if needed (e.g., specific error codes)\n",
    "            break # Stop processing events once the final response is found\n",
    "\n",
    "    print(f\"<<< Agent Response: {final_response_text}\")"
   ]
  },
  {
   "cell_type": "code",
   "execution_count": 9,
   "metadata": {},
   "outputs": [
    {
     "name": "stdout",
     "output_type": "stream",
     "text": [
      "\n",
      ">>> User Query: What is the weather like in London?\n",
      "  [Event] Author: question_answer_agent, Type: Event, Final: True, Content: parts=[Part(video_metadata=None, thought=None, inline_data=None, code_execution_result=None, executable_code=None, file_data=None, function_call=None, function_response=None, text=\"The weather in London, United Kingdom is partly cloudy with a 45% chance of rain. The temperature is 14°C (58°F), but it feels like 13°C (56°F). The humidity is around 90%.\\n\\nHere's the forecast for the next few days:\\n\\n*   **Monday, May 26:** Cloudy during the day and light rain at night. The temperature will be between 12°C (54°F) and 17°C (62°F).\\n*   **Tuesday, May 27:** Light rain during the day and rain showers at night. The temperature will be between 13°C (56°F) and 17°C (63°F).\\n*   **Wednesday, May 28:** Light rain during the day and mostly cloudy at night. The temperature will be between 12°C (54°F) and 18°C (65°F).\")] role='model'\n",
      "<<< Agent Response: The weather in London, United Kingdom is partly cloudy with a 45% chance of rain. The temperature is 14°C (58°F), but it feels like 13°C (56°F). The humidity is around 90%.\n",
      "\n",
      "Here's the forecast for the next few days:\n",
      "\n",
      "*   **Monday, May 26:** Cloudy during the day and light rain at night. The temperature will be between 12°C (54°F) and 17°C (62°F).\n",
      "*   **Tuesday, May 27:** Light rain during the day and rain showers at night. The temperature will be between 13°C (56°F) and 17°C (63°F).\n",
      "*   **Wednesday, May 28:** Light rain during the day and mostly cloudy at night. The temperature will be between 12°C (54°F) and 18°C (65°F).\n"
     ]
    }
   ],
   "source": [
    "await call_agent_async(\"What is the weather like in London?\",\n",
    "                                       runner=runner,\n",
    "                                       user_id=USER_ID,\n",
    "                                       session_id=SESSION_ID)"
   ]
  },
  {
   "cell_type": "code",
   "execution_count": 10,
   "metadata": {},
   "outputs": [],
   "source": [
    "query = \"What is the weather like in London?\"\n",
    "content = types.Content(role='user', parts=[types.Part(text=query)])\n",
    "\n",
    "events = []\n",
    "for event in runner.run(\n",
    "    user_id=USER_ID,\n",
    "    session_id=SESSION_ID, \n",
    "    new_message=content):\n",
    "    events.append(event)"
   ]
  },
  {
   "cell_type": "code",
   "execution_count": 11,
   "metadata": {},
   "outputs": [
    {
     "data": {
      "text/markdown": [
       "The weather in London, United Kingdom is partly cloudy with a 45% chance of rain. The temperature is 14°C (58°F), but it feels like 13°C (56°F). The humidity is around 90%.\n",
       "\n",
       "Here is the forecast for the next few days:\n",
       "\n",
       "*   **Monday, May 26:** Cloudy during the day and light rain at night. The temperature will be between 12°C (54°F) and 17°C (62°F).\n",
       "*   **Tuesday, May 27:** Light rain during the day and rain showers at night. The temperature will be between 13°C (56°F) and 17°C (63°F).\n",
       "*   **Wednesday, May 28:** Light rain during the day and mostly cloudy at night. The temperature will be between 12°C (54°F) and 18°C (65°F).\n"
      ],
      "text/plain": [
       "<IPython.core.display.Markdown object>"
      ]
     },
     "metadata": {},
     "output_type": "display_data"
    }
   ],
   "source": [
    "display(Markdown((events[-1].content.parts[0].text)))"
   ]
  },
  {
   "cell_type": "markdown",
   "metadata": {},
   "source": [
    "## Notes on [the samples](https://github.com/google/adk-python/tree/main/contributing/samples)\n",
    "\n",
    "Similar abstraction, basically a direct competitor to OpenAI Agents SDK. Commonalities include:\n",
    "- Agent runtime\n",
    "- Multi-model via LiteLLM\n",
    "- MCP integration"
   ]
  },
  {
   "cell_type": "markdown",
   "metadata": {},
   "source": [
    "## What is an Agent?\n",
    "\n",
    "> A self-contained execution unit designed to act autonomously to achieve specific goals. Agents can perform tasks, interact with users, utilize external tools, and coordinate with other agents.\n",
    "\n",
    "### What does \"interact with users\" mean?\n",
    "\n",
    "### What does \"utilize external tools\" mean? \n",
    "\n",
    "### How does multi-agent coordination function in relation to OpenAI Agents SDK? \n"
   ]
  },
  {
   "cell_type": "code",
   "execution_count": 12,
   "metadata": {},
   "outputs": [
    {
     "data": {
      "text/markdown": [
       "### LlmAgent\n",
       "\n",
       "&nbsp;&nbsp;&nbsp;&nbsp;&nbsp;**name**: <class 'str'> *\n",
       "\n",
       "&nbsp;&nbsp;&nbsp;&nbsp;&nbsp;**description**: <class 'str'> = \n",
       "\n",
       "&nbsp;&nbsp;&nbsp;&nbsp;&nbsp;**parent_agent**: typing.Optional[google.adk.agents.base_agent.BaseAgent] = None\n",
       "\n",
       "&nbsp;&nbsp;&nbsp;&nbsp;&nbsp;**sub_agents**: list[google.adk.agents.base_agent.BaseAgent] = <factory>\n",
       "\n",
       "&nbsp;&nbsp;&nbsp;&nbsp;&nbsp;**before_agent_callback**: typing.Union[typing.Callable[[google.adk.agents.callback_context.CallbackContext], typing.Union[typing.Awaitable[typing.Optional[google.genai.types.Content]], google.genai.types.Content, NoneType]], list[typing.Callable[[google.adk.agents.callback_context.CallbackContext], typing.Union[typing.Awaitable[typing.Optional[google.genai.types.Content]], google.genai.types.Content, NoneType]]], NoneType] = None\n",
       "\n",
       "&nbsp;&nbsp;&nbsp;&nbsp;&nbsp;**after_agent_callback**: typing.Union[typing.Callable[[google.adk.agents.callback_context.CallbackContext], typing.Union[typing.Awaitable[typing.Optional[google.genai.types.Content]], google.genai.types.Content, NoneType]], list[typing.Callable[[google.adk.agents.callback_context.CallbackContext], typing.Union[typing.Awaitable[typing.Optional[google.genai.types.Content]], google.genai.types.Content, NoneType]]], NoneType] = None\n",
       "\n",
       "&nbsp;&nbsp;&nbsp;&nbsp;&nbsp;**model**: typing.Union[str, google.adk.models.base_llm.BaseLlm] = \n",
       "\n",
       "&nbsp;&nbsp;&nbsp;&nbsp;&nbsp;**instruction**: typing.Union[str, typing.Callable[[google.adk.agents.readonly_context.ReadonlyContext], typing.Union[str, typing.Awaitable[str]]]] = \n",
       "\n",
       "&nbsp;&nbsp;&nbsp;&nbsp;&nbsp;**global_instruction**: typing.Union[str, typing.Callable[[google.adk.agents.readonly_context.ReadonlyContext], typing.Union[str, typing.Awaitable[str]]]] = \n",
       "\n",
       "&nbsp;&nbsp;&nbsp;&nbsp;&nbsp;**tools**: list[typing.Union[typing.Callable, google.adk.tools.base_tool.BaseTool, google.adk.tools.base_toolset.BaseToolset]] = <factory>\n",
       "\n",
       "&nbsp;&nbsp;&nbsp;&nbsp;&nbsp;**generate_content_config**: typing.Optional[google.genai.types.GenerateContentConfig] = None\n",
       "\n",
       "&nbsp;&nbsp;&nbsp;&nbsp;&nbsp;**disallow_transfer_to_parent**: <class 'bool'> = False\n",
       "\n",
       "&nbsp;&nbsp;&nbsp;&nbsp;&nbsp;**disallow_transfer_to_peers**: <class 'bool'> = False\n",
       "\n",
       "&nbsp;&nbsp;&nbsp;&nbsp;&nbsp;**include_contents**: typing.Literal['default', 'none'] = default\n",
       "\n",
       "&nbsp;&nbsp;&nbsp;&nbsp;&nbsp;**input_schema**: typing.Optional[type[pydantic.main.BaseModel]] = None\n",
       "\n",
       "&nbsp;&nbsp;&nbsp;&nbsp;&nbsp;**output_schema**: typing.Optional[type[pydantic.main.BaseModel]] = None\n",
       "\n",
       "&nbsp;&nbsp;&nbsp;&nbsp;&nbsp;**output_key**: typing.Optional[str] = None\n",
       "\n",
       "&nbsp;&nbsp;&nbsp;&nbsp;&nbsp;**planner**: typing.Optional[google.adk.planners.base_planner.BasePlanner] = None\n",
       "\n",
       "&nbsp;&nbsp;&nbsp;&nbsp;&nbsp;**code_executor**: typing.Optional[google.adk.code_executors.base_code_executor.BaseCodeExecutor] = None\n",
       "\n",
       "&nbsp;&nbsp;&nbsp;&nbsp;&nbsp;**examples**: typing.Union[list[google.adk.examples.example.Example], google.adk.examples.base_example_provider.BaseExampleProvider, NoneType] = None\n",
       "\n",
       "&nbsp;&nbsp;&nbsp;&nbsp;&nbsp;**before_model_callback**: typing.Union[typing.Callable[[google.adk.agents.callback_context.CallbackContext, google.adk.models.llm_request.LlmRequest], typing.Union[typing.Awaitable[typing.Optional[google.adk.models.llm_response.LlmResponse]], google.adk.models.llm_response.LlmResponse, NoneType]], list[typing.Callable[[google.adk.agents.callback_context.CallbackContext, google.adk.models.llm_request.LlmRequest], typing.Union[typing.Awaitable[typing.Optional[google.adk.models.llm_response.LlmResponse]], google.adk.models.llm_response.LlmResponse, NoneType]]], NoneType] = None\n",
       "\n",
       "&nbsp;&nbsp;&nbsp;&nbsp;&nbsp;**after_model_callback**: typing.Union[typing.Callable[[google.adk.agents.callback_context.CallbackContext, google.adk.models.llm_response.LlmResponse], typing.Union[typing.Awaitable[typing.Optional[google.adk.models.llm_response.LlmResponse]], google.adk.models.llm_response.LlmResponse, NoneType]], list[typing.Callable[[google.adk.agents.callback_context.CallbackContext, google.adk.models.llm_response.LlmResponse], typing.Union[typing.Awaitable[typing.Optional[google.adk.models.llm_response.LlmResponse]], google.adk.models.llm_response.LlmResponse, NoneType]]], NoneType] = None\n",
       "\n",
       "&nbsp;&nbsp;&nbsp;&nbsp;&nbsp;**before_tool_callback**: typing.Union[typing.Callable[[google.adk.tools.base_tool.BaseTool, dict[str, typing.Any], google.adk.tools.tool_context.ToolContext], typing.Union[typing.Awaitable[typing.Optional[dict]], dict, NoneType]], list[typing.Callable[[google.adk.tools.base_tool.BaseTool, dict[str, typing.Any], google.adk.tools.tool_context.ToolContext], typing.Union[typing.Awaitable[typing.Optional[dict]], dict, NoneType]]], NoneType] = None\n",
       "\n",
       "&nbsp;&nbsp;&nbsp;&nbsp;&nbsp;**after_tool_callback**: typing.Union[typing.Callable[[google.adk.tools.base_tool.BaseTool, dict[str, typing.Any], google.adk.tools.tool_context.ToolContext, dict], typing.Union[typing.Awaitable[typing.Optional[dict]], dict, NoneType]], list[typing.Callable[[google.adk.tools.base_tool.BaseTool, dict[str, typing.Any], google.adk.tools.tool_context.ToolContext, dict], typing.Union[typing.Awaitable[typing.Optional[dict]], dict, NoneType]]], NoneType] = None\n",
       "\n"
      ],
      "text/plain": [
       "<IPython.core.display.Markdown object>"
      ]
     },
     "metadata": {},
     "output_type": "display_data"
    }
   ],
   "source": [
    "display_signature(Agent)"
   ]
  },
  {
   "cell_type": "code",
   "execution_count": 13,
   "metadata": {},
   "outputs": [
    {
     "data": {
      "text/markdown": [
       "### Runner\n",
       "\n",
       "&nbsp;&nbsp;&nbsp;&nbsp;&nbsp;**app_name**: str *\n",
       "\n",
       "&nbsp;&nbsp;&nbsp;&nbsp;&nbsp;**agent**: BaseAgent *\n",
       "\n",
       "&nbsp;&nbsp;&nbsp;&nbsp;&nbsp;**artifact_service**: Optional[BaseArtifactService] = None\n",
       "\n",
       "&nbsp;&nbsp;&nbsp;&nbsp;&nbsp;**session_service**: BaseSessionService *\n",
       "\n",
       "&nbsp;&nbsp;&nbsp;&nbsp;&nbsp;**memory_service**: Optional[BaseMemoryService] = None\n",
       "\n"
      ],
      "text/plain": [
       "<IPython.core.display.Markdown object>"
      ]
     },
     "metadata": {},
     "output_type": "display_data"
    }
   ],
   "source": [
    "display_signature(Runner)"
   ]
  },
  {
   "cell_type": "code",
   "execution_count": 14,
   "metadata": {},
   "outputs": [
    {
     "data": {
      "text/markdown": [
       "### run\n",
       "\n",
       "&nbsp;&nbsp;&nbsp;&nbsp;&nbsp;**self** *\n",
       "\n",
       "&nbsp;&nbsp;&nbsp;&nbsp;&nbsp;**user_id**: str *\n",
       "\n",
       "&nbsp;&nbsp;&nbsp;&nbsp;&nbsp;**session_id**: str *\n",
       "\n",
       "&nbsp;&nbsp;&nbsp;&nbsp;&nbsp;**new_message**: types.Content *\n",
       "\n",
       "&nbsp;&nbsp;&nbsp;&nbsp;&nbsp;**run_config**: RunConfig = speech_config=None response_modalities=None save_input_blobs_as_artifacts=False support_cfc=False streaming_mode=<StreamingMode.NONE: None> output_audio_transcription=None input_audio_transcription=None max_llm_calls=500\n",
       "\n"
      ],
      "text/plain": [
       "<IPython.core.display.Markdown object>"
      ]
     },
     "metadata": {},
     "output_type": "display_data"
    }
   ],
   "source": [
    "display_signature(Runner.run)"
   ]
  },
  {
   "cell_type": "markdown",
   "metadata": {},
   "source": [
    "## Monitoring\n",
    "\n",
    "### [Events](https://google.github.io/adk-docs/events/)\n",
    "\n",
    "An immutable record representing a specific point in the agent's execution.\n",
    "Let's run the example again and inspect the event object.\n",
    "\n",
    "Google ADK also provides a GUI for interacting with agents, and viewing traces and events.\n",
    "\n",
    "![](../static/google-adk-web-trace.png)"
   ]
  },
  {
   "cell_type": "code",
   "execution_count": 15,
   "metadata": {},
   "outputs": [
    {
     "name": "stdout",
     "output_type": "stream",
     "text": [
      "content=Content(parts=[Part(video_metadata=None, thought=None, inline_data=None, code_execution_result=None, executable_code=None, file_data=None, function_call=None, function_response=None, text='The weather in London, United Kingdom is partly cloudy with a 45% chance of rain. The temperature is 14°C (58°F), but it feels like 13°C (56°F). The humidity is around 90%.\\n\\nHere is the forecast for the next few days:\\n\\n*   **Monday, May 26:** Cloudy during the day and light rain at night. The temperature will be between 12°C (54°F) and 17°C (62°F).\\n*   **Tuesday, May 27:** Light rain during the day and rain showers at night. The temperature will be between 13°C (56°F) and 17°C (63°F).\\n*   **Wednesday, May 28:** Light rain during the day and mostly cloudy at night. The temperature will be between 12°C (54°F) and 18°C (65°F).\\n')], role='model') grounding_metadata=GroundingMetadata(grounding_chunks=[GroundingChunk(retrieved_context=None, web=GroundingChunkWeb(domain=None, title='Weather information for locality: London', uri='https://www.google.com/search?q=weather+in+London')), GroundingChunk(retrieved_context=None, web=GroundingChunkWeb(domain=None, title='theweathernetwork.com', uri='https://vertexaisearch.cloud.google.com/grounding-api-redirect/AbF9wXEWPiCDRrOBz2JSNbHOFbGX16MovSHuq_SiIDm_9I3enu_CtHFzwNk9cY7QXHhsgRbZctrZmpxraqRNEzcrWlz0qMUDBz8pR8N1DX0_pPK67dXdCxHdHFJBsx44JO5Ki1ui6xRVYOUJaHpgMxlVQQQpY6Z5FF6vyYDEG40BPNcJrRySYDrp'))], grounding_supports=[GroundingSupport(confidence_scores=[0.97177595], grounding_chunk_indices=[0], segment=Segment(end_index=148, part_index=None, start_index=82, text='The temperature is 14°C (58°F), but it feels like 13°C (56°F).')), GroundingSupport(confidence_scores=[0.80815667], grounding_chunk_indices=[0], segment=Segment(end_index=176, part_index=None, start_index=149, text='The humidity is around 90%.')), GroundingSupport(confidence_scores=[0.9495495, 0.9607006], grounding_chunk_indices=[0, 1], segment=Segment(end_index=293, part_index=None, start_index=223, text='*   **Monday, May 26:** Cloudy during the day and light rain at night.')), GroundingSupport(confidence_scores=[0.9704012], grounding_chunk_indices=[0], segment=Segment(end_index=436, part_index=None, start_index=359, text='*   **Tuesday, May 27:** Light rain during the day and rain showers at night.')), GroundingSupport(confidence_scores=[0.70568395], grounding_chunk_indices=[0], segment=Segment(end_index=501, part_index=None, start_index=437, text='The temperature will be between 13°C (56°F) and 17°C (63°F).')), GroundingSupport(confidence_scores=[0.9863339], grounding_chunk_indices=[0], segment=Segment(end_index=582, part_index=None, start_index=502, text='*   **Wednesday, May 28:** Light rain during the day and mostly cloudy at night.')), GroundingSupport(confidence_scores=[0.8394564], grounding_chunk_indices=[0], segment=Segment(end_index=647, part_index=None, start_index=583, text='The temperature will be between 12°C (54°F) and 18°C (65°F).'))], retrieval_metadata=RetrievalMetadata(google_search_dynamic_retrieval_score=None), retrieval_queries=None, search_entry_point=SearchEntryPoint(rendered_content='<style>\\n.container {\\n  align-items: center;\\n  border-radius: 8px;\\n  display: flex;\\n  font-family: Google Sans, Roboto, sans-serif;\\n  font-size: 14px;\\n  line-height: 20px;\\n  padding: 8px 12px;\\n}\\n.chip {\\n  display: inline-block;\\n  border: solid 1px;\\n  border-radius: 16px;\\n  min-width: 14px;\\n  padding: 5px 16px;\\n  text-align: center;\\n  user-select: none;\\n  margin: 0 8px;\\n  -webkit-tap-highlight-color: transparent;\\n}\\n.carousel {\\n  overflow: auto;\\n  scrollbar-width: none;\\n  white-space: nowrap;\\n  margin-right: -12px;\\n}\\n.headline {\\n  display: flex;\\n  margin-right: 4px;\\n}\\n.gradient-container {\\n  position: relative;\\n}\\n.gradient {\\n  position: absolute;\\n  transform: translate(3px, -9px);\\n  height: 36px;\\n  width: 9px;\\n}\\n@media (prefers-color-scheme: light) {\\n  .container {\\n    background-color: #fafafa;\\n    box-shadow: 0 0 0 1px #0000000f;\\n  }\\n  .headline-label {\\n    color: #1f1f1f;\\n  }\\n  .chip {\\n    background-color: #ffffff;\\n    border-color: #d2d2d2;\\n    color: #5e5e5e;\\n    text-decoration: none;\\n  }\\n  .chip:hover {\\n    background-color: #f2f2f2;\\n  }\\n  .chip:focus {\\n    background-color: #f2f2f2;\\n  }\\n  .chip:active {\\n    background-color: #d8d8d8;\\n    border-color: #b6b6b6;\\n  }\\n  .logo-dark {\\n    display: none;\\n  }\\n  .gradient {\\n    background: linear-gradient(90deg, #fafafa 15%, #fafafa00 100%);\\n  }\\n}\\n@media (prefers-color-scheme: dark) {\\n  .container {\\n    background-color: #1f1f1f;\\n    box-shadow: 0 0 0 1px #ffffff26;\\n  }\\n  .headline-label {\\n    color: #fff;\\n  }\\n  .chip {\\n    background-color: #2c2c2c;\\n    border-color: #3c4043;\\n    color: #fff;\\n    text-decoration: none;\\n  }\\n  .chip:hover {\\n    background-color: #353536;\\n  }\\n  .chip:focus {\\n    background-color: #353536;\\n  }\\n  .chip:active {\\n    background-color: #464849;\\n    border-color: #53575b;\\n  }\\n  .logo-light {\\n    display: none;\\n  }\\n  .gradient {\\n    background: linear-gradient(90deg, #1f1f1f 15%, #1f1f1f00 100%);\\n  }\\n}\\n</style>\\n<div class=\"container\">\\n  <div class=\"headline\">\\n    <svg class=\"logo-light\" width=\"18\" height=\"18\" viewBox=\"9 9 35 35\" fill=\"none\" xmlns=\"http://www.w3.org/2000/svg\">\\n      <path fill-rule=\"evenodd\" clip-rule=\"evenodd\" d=\"M42.8622 27.0064C42.8622 25.7839 42.7525 24.6084 42.5487 23.4799H26.3109V30.1568H35.5897C35.1821 32.3041 33.9596 34.1222 32.1258 35.3448V39.6864H37.7213C40.9814 36.677 42.8622 32.2571 42.8622 27.0064V27.0064Z\" fill=\"#4285F4\"/>\\n      <path fill-rule=\"evenodd\" clip-rule=\"evenodd\" d=\"M26.3109 43.8555C30.9659 43.8555 34.8687 42.3195 37.7213 39.6863L32.1258 35.3447C30.5898 36.3792 28.6306 37.0061 26.3109 37.0061C21.8282 37.0061 18.0195 33.9811 16.6559 29.906H10.9194V34.3573C13.7563 39.9841 19.5712 43.8555 26.3109 43.8555V43.8555Z\" fill=\"#34A853\"/>\\n      <path fill-rule=\"evenodd\" clip-rule=\"evenodd\" d=\"M16.6559 29.8904C16.3111 28.8559 16.1074 27.7588 16.1074 26.6146C16.1074 25.4704 16.3111 24.3733 16.6559 23.3388V18.8875H10.9194C9.74388 21.2072 9.06992 23.8247 9.06992 26.6146C9.06992 29.4045 9.74388 32.022 10.9194 34.3417L15.3864 30.8621L16.6559 29.8904V29.8904Z\" fill=\"#FBBC05\"/>\\n      <path fill-rule=\"evenodd\" clip-rule=\"evenodd\" d=\"M26.3109 16.2386C28.85 16.2386 31.107 17.1164 32.9095 18.8091L37.8466 13.8719C34.853 11.082 30.9659 9.3736 26.3109 9.3736C19.5712 9.3736 13.7563 13.245 10.9194 18.8875L16.6559 23.3388C18.0195 19.2636 21.8282 16.2386 26.3109 16.2386V16.2386Z\" fill=\"#EA4335\"/>\\n    </svg>\\n    <svg class=\"logo-dark\" width=\"18\" height=\"18\" viewBox=\"0 0 48 48\" xmlns=\"http://www.w3.org/2000/svg\">\\n      <circle cx=\"24\" cy=\"23\" fill=\"#FFF\" r=\"22\"/>\\n      <path d=\"M33.76 34.26c2.75-2.56 4.49-6.37 4.49-11.26 0-.89-.08-1.84-.29-3H24.01v5.99h8.03c-.4 2.02-1.5 3.56-3.07 4.56v.75l3.91 2.97h.88z\" fill=\"#4285F4\"/>\\n      <path d=\"M15.58 25.77A8.845 8.845 0 0 0 24 31.86c1.92 0 3.62-.46 4.97-1.31l4.79 3.71C31.14 36.7 27.65 38 24 38c-5.93 0-11.01-3.4-13.45-8.36l.17-1.01 4.06-2.85h.8z\" fill=\"#34A853\"/>\\n      <path d=\"M15.59 20.21a8.864 8.864 0 0 0 0 5.58l-5.03 3.86c-.98-2-1.53-4.25-1.53-6.64 0-2.39.55-4.64 1.53-6.64l1-.22 3.81 2.98.22 1.08z\" fill=\"#FBBC05\"/>\\n      <path d=\"M24 14.14c2.11 0 4.02.75 5.52 1.98l4.36-4.36C31.22 9.43 27.81 8 24 8c-5.93 0-11.01 3.4-13.45 8.36l5.03 3.85A8.86 8.86 0 0 1 24 14.14z\" fill=\"#EA4335\"/>\\n    </svg>\\n    <div class=\"gradient-container\"><div class=\"gradient\"></div></div>\\n  </div>\\n  <div class=\"carousel\">\\n    <a class=\"chip\" href=\"https://vertexaisearch.cloud.google.com/grounding-api-redirect/AbF9wXHswdrCB8ysZE2QAlIaCkfdXTC4_S7wMHTtPHxl5NHkBmQMjxOduanLGAUncQczga3JgYy84lhP7s-nwWXL6YQTz6p_S-dzu2spoSl5SX_mxLMBazKqdwc6EzNfXipb8tlklin232b2hPfMflffzi-pRpgQPUFsHqcdcmYnGPkTBLqQqUl1m887Rcp_UcqC7tyXoyeL\">weather in London</a>\\n  </div>\\n</div>\\n', sdk_blob=None), web_search_queries=['weather in London']) partial=None turn_complete=None error_code=None error_message=None interrupted=None custom_metadata=None usage_metadata=GenerateContentResponseUsageMetadata(cache_tokens_details=None, cached_content_token_count=None, candidates_token_count=218, candidates_tokens_details=[ModalityTokenCount(modality=<MediaModality.TEXT: 'TEXT'>, token_count=218)], prompt_token_count=521, prompt_tokens_details=[ModalityTokenCount(modality=<MediaModality.TEXT: 'TEXT'>, token_count=521)], thoughts_token_count=None, tool_use_prompt_token_count=None, tool_use_prompt_tokens_details=None, total_token_count=739, traffic_type=None) invocation_id='e-7fdc5b03-d507-4a9f-8648-6eae0ac7777b' author='question_answer_agent' actions=EventActions(skip_summarization=None, state_delta={}, artifact_delta={}, transfer_to_agent=None, escalate=None, requested_auth_configs={}) long_running_tool_ids=None branch=None id='E8OO6NIr' timestamp=1748148962.214959\n"
     ]
    }
   ],
   "source": [
    "query = \"What is the weather like in London?\"\n",
    "content = types.Content(role='user', parts=[types.Part(text=query)])\n",
    "\n",
    "for event in runner.run(\n",
    "    user_id=USER_ID,\n",
    "    session_id=SESSION_ID, \n",
    "    new_message=content):\n",
    "    print(event)"
   ]
  },
  {
   "cell_type": "code",
   "execution_count": null,
   "metadata": {},
   "outputs": [],
   "source": [
    "s = f\"### Author: {event.author}\"\n",
    "s += f\"\\nId: {event.id}\"\n",
    "s += f\"\\n\\nInvocation ID: {event.invocation_id}\"\n",
    "s += f\"\\n#### Content\"\n",
    "s += f\"\\n{event.content}\"\n",
    "s += f\"\\n#### Thought\"\n",
    "s += f\"\\n{event.content.parts[0].thought}\"\n",
    "s += f\"\\n#### Code Execution Result\"\n",
    "s += f\"\\n{event.content.parts[0].code_execution_result}\"\n",
    "s += f\"\\n#### Executable Code\"\n",
    "s += f\"\\n{event.content.parts[0].executable_code}\"\n",
    "s += f\"\\n#### File Data\"\n",
    "s += f\"\\n{event.content.parts[0].file_data}\"\n",
    "s += f\"\\n#### Function Call\"\n",
    "s += f\"\\n{event.content.parts[0].function_call}\"\n",
    "s += f\"\\n#### Function Response\"\n",
    "s += f\"\\n{event.content.parts[0].function_response}\"\n",
    "\n",
    "display(Markdown(s))"
   ]
  },
  {
   "cell_type": "markdown",
   "metadata": {},
   "source": [
    "### TODO: Export traces\n",
    "\n",
    "- https://weave-docs.wandb.ai/guides/integrations/google_adk/\n",
    "- https://googleapis.github.io/genai-toolbox/how-to/export_telemetry/"
   ]
  },
  {
   "cell_type": "markdown",
   "metadata": {},
   "source": [
    "## TODO: Evaluation"
   ]
  },
  {
   "cell_type": "markdown",
   "metadata": {},
   "source": [
    "## TODO: Custom Models"
   ]
  },
  {
   "cell_type": "markdown",
   "metadata": {},
   "source": []
  }
 ],
 "metadata": {
  "kernelspec": {
   "display_name": "agents-100-days (uv)",
   "language": "python",
   "name": "agents-100-days"
  },
  "language_info": {
   "codemirror_mode": {
    "name": "ipython",
    "version": 3
   },
   "file_extension": ".py",
   "mimetype": "text/x-python",
   "name": "python",
   "nbconvert_exporter": "python",
   "pygments_lexer": "ipython3",
   "version": "3.12.9"
  }
 },
 "nbformat": 4,
 "nbformat_minor": 2
}
