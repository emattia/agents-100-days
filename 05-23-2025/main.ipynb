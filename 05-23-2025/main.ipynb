{
 "cells": [
  {
   "cell_type": "markdown",
   "metadata": {},
   "source": [
    "### Goal: Download a sample OpenTopography LiDAR Tile to understand the data structure"
   ]
  },
  {
   "cell_type": "code",
   "execution_count": 1,
   "metadata": {},
   "outputs": [
    {
     "data": {
      "text/plain": [
       "True"
      ]
     },
     "execution_count": 1,
     "metadata": {},
     "output_type": "execute_result"
    }
   ],
   "source": [
    "from dotenv import load_dotenv\n",
    "load_dotenv()"
   ]
  },
  {
   "cell_type": "code",
   "execution_count": 17,
   "metadata": {},
   "outputs": [],
   "source": [
    "import os\n",
    "import json\n",
    "import hashlib\n",
    "import requests\n",
    "from pathlib import Path\n",
    "import xml.etree.ElementTree as ET\n",
    "\n",
    "from agents import Agent, Runner, WebSearchTool, CodeInterpreterTool, trace\n",
    "from IPython.display import display, Markdown"
   ]
  },
  {
   "cell_type": "code",
   "execution_count": 4,
   "metadata": {},
   "outputs": [],
   "source": [
    "task = \"\"\"Download a sample OpenTopography LiDAR Tile, understand the data structure, and write a small report. \n",
    "Also write a Python code sample to list feasible request inputs, and a function that submits a request to download the file.\n",
    "\n",
    "1. Download one OpenTopography LiDAR tile.\n",
    "2. Run a single OpenAI o3/o4-mini or GPT-4.1 prompt on that data (e.g., “describe surface features\n",
    "in plain English”).\n",
    "3. Print model version and dataset ID.\n",
    "\"\"\"\n",
    "\n",
    "manager_prompt = f\"\"\"You are an elite researcher and programmer.\n",
    "Your team's job is to efficiently complete the assigned task with precision and recall.\n",
    "Your team can search the internet, read documentation, and do anything needed to get the task done.\"\"\"\n",
    "\n",
    "researcher_prompt = f\"\"\"You are an elite researcher and programmer. A Davinci-like Pythonista.\"\"\""
   ]
  },
  {
   "cell_type": "code",
   "execution_count": 14,
   "metadata": {},
   "outputs": [],
   "source": [
    "research_agent = Agent(\n",
    "    name=\"Researcher\", \n",
    "    instructions=researcher_prompt, \n",
    "    tools=[\n",
    "        WebSearchTool(), \n",
    "        CodeInterpreterTool(\n",
    "            tool_config={\"type\": \"code_interpreter\", \"container\": {\"type\": \"auto\"}},\n",
    "        )\n",
    "    ]\n",
    ")\n",
    "manager_agent = Agent(\n",
    "    name=\"Manager\", \n",
    "    instructions=manager_prompt, \n",
    "    handoffs=[research_agent]\n",
    ")\n",
    "result = await Runner.run(manager_agent, task) "
   ]
  },
  {
   "cell_type": "code",
   "execution_count": null,
   "metadata": {},
   "outputs": [],
   "source": [
    "display(Markdown(result.final_output))"
   ]
  },
  {
   "cell_type": "code",
   "execution_count": 18,
   "metadata": {},
   "outputs": [],
   "source": [
    "def query_opentopo_catalog():\n",
    "    url = \"https://portal.opentopography.org/API/otCatalog\"\n",
    "    params = {\n",
    "        \"productFormat\": \"PointCloud\",\n",
    "        \"minx\": -123.2,\n",
    "        \"miny\": 44.8,\n",
    "        \"maxx\": -121.9,\n",
    "        \"maxy\": 45.7,\n",
    "        \"detail\": \"false\",\n",
    "        \"outputFormat\": \"xml\",\n",
    "        \"include_federated\": \"false\"\n",
    "    }\n",
    "    headers = {\n",
    "        \"accept\": \"*/*\"\n",
    "    }\n",
    "\n",
    "    response = requests.get(url, params=params, headers=headers)\n",
    "\n",
    "    if response.status_code == 200:\n",
    "        return response.text\n",
    "    else:\n",
    "        print(f\"❌ Failed with status code {response.status_code}\")\n",
    "        print(response.text)\n",
    "\n",
    "def parse_opentopo_xml(xml_string):\n",
    "    root = ET.fromstring(xml_string)\n",
    "    \n",
    "    datasets = []\n",
    "    for dataset in root.findall(\"Dataset\"):\n",
    "        name = dataset.findtext(\"name\")\n",
    "        opentopo_id = dataset.find(\"identifier/value\").text\n",
    "        alternate_name = dataset.findtext(\"alternateName\")\n",
    "        date_created = dataset.findtext(\"dateCreated\")\n",
    "        url = dataset.findtext(\"url\")\n",
    "        \n",
    "        datasets.append({\n",
    "            \"name\": name,\n",
    "            \"opentopo_id\": opentopo_id,\n",
    "            \"alternate_name\": alternate_name,\n",
    "            \"date_created\": date_created,\n",
    "            \"url\": url\n",
    "        })\n",
    "    \n",
    "    return datasets\n",
    "\n",
    "def query_globaldem(\n",
    "  demtype=\"SRTMGL3\",\n",
    "  south=50,\n",
    "  north=50.1,\n",
    "  west=14.35,\n",
    "  east=14.6,\n",
    "  output_format=\"GTiff\"\n",
    "):\n",
    "    url = \"https://portal.opentopography.org/API/globaldem\"\n",
    "    params = {\n",
    "        \"demtype\": demtype,\n",
    "        \"south\": south,\n",
    "        \"north\": north,\n",
    "        \"west\": west,\n",
    "        \"east\": east,\n",
    "        \"outputFormat\": output_format,\n",
    "        \"API_Key\": os.environ['OPENTOPOGRAPHY_API_KEY']\n",
    "    }\n",
    "    headers = {\n",
    "        \"accept\": \"*/*\"\n",
    "    }\n",
    "\n",
    "    response = requests.get(url, params=params, headers=headers)\n",
    "\n",
    "    if response.status_code == 200:\n",
    "        return response\n",
    "    else:\n",
    "        print(f\"❌ Failed with status code {response.status_code}\")\n",
    "        return response\n",
    "\n",
    "def stable_query_hash(args):\n",
    "    return hashlib.sha256(json.dumps(args, sort_keys=True).encode()).hexdigest()"
   ]
  },
  {
   "cell_type": "code",
   "execution_count": 6,
   "metadata": {},
   "outputs": [],
   "source": [
    "res = query_opentopo_catalog()"
   ]
  },
  {
   "cell_type": "code",
   "execution_count": 7,
   "metadata": {},
   "outputs": [
    {
     "name": "stdout",
     "output_type": "stream",
     "text": [
      "Eagle Creek Fire Area in the Columbia River Gorge, Oregon (OTLAS.112018.26910.1) - OR18_Roering - Created: 2018-11-09\n",
      "Oregon Department of Geology and Mineral Industries Lidar Program Data (OTLAS.022011.2994.1) - DOGAMI - Created: 2011-02-01\n"
     ]
    }
   ],
   "source": [
    "parsed_datasets = parse_opentopo_xml(res)\n",
    "\n",
    "for ds in parsed_datasets:\n",
    "    print(f\"{ds['name']} ({ds['opentopo_id']}) - {ds['alternate_name']} - Created: {ds['date_created']}\")"
   ]
  },
  {
   "cell_type": "code",
   "execution_count": 8,
   "metadata": {},
   "outputs": [],
   "source": [
    "query_args = dict(\n",
    "    demtype=\"SRTMGL3\",\n",
    "    south=50,\n",
    "    north=50.1,\n",
    "    west=14.35,\n",
    "    east=14.6,\n",
    "    output_format=\"GTiff\"\n",
    ")\n",
    "\n",
    "res = query_globaldem(**query_args)"
   ]
  },
  {
   "cell_type": "code",
   "execution_count": 19,
   "metadata": {},
   "outputs": [],
   "source": [
    "opentopo_data_root = Path.cwd() / \"data\" / \"opentopography\"\n",
    "os.makedirs(opentopo_data_root, exist_ok=True)\n",
    "\n",
    "manifest_file_path = opentopo_data_root / \"manifest.json\"\n",
    "\n",
    "global_dem_data_root = opentopo_data_root / \"globaldem\"\n",
    "os.makedirs(global_dem_data_root, exist_ok=True)\n",
    "\n",
    "query_hash = stable_query_hash(query_args)\n",
    "\n",
    "tif_file_path = f\"{global_dem_data_root}/{query_hash}.tif\"\n",
    "with open(tif_file_path, \"wb\") as f:\n",
    "    f.write(res.content)\n",
    "\n",
    "if os.path.exists(manifest_file_path):\n",
    "    with open(manifest_file_path, 'r') as f:\n",
    "        manifest = json.load(f)\n",
    "else:\n",
    "    manifest = {}\n",
    "manifest[query_hash] = {\n",
    "    'local_file': tif_file_path,\n",
    "    'remote_file': None,\n",
    "    'args': query_args\n",
    "}\n",
    "with open(manifest_file_path, 'w') as f:\n",
    "    json.dump(manifest, f)"
   ]
  }
 ],
 "metadata": {
  "kernelspec": {
   "display_name": "Python 3",
   "language": "python",
   "name": "python3"
  },
  "language_info": {
   "codemirror_mode": {
    "name": "ipython",
    "version": 3
   },
   "file_extension": ".py",
   "mimetype": "text/x-python",
   "name": "python",
   "nbconvert_exporter": "python",
   "pygments_lexer": "ipython3",
   "version": "3.12.10"
  }
 },
 "nbformat": 4,
 "nbformat_minor": 2
}
